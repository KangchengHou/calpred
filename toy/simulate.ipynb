{
 "cells": [
  {
   "cell_type": "code",
   "execution_count": 1,
   "id": "17f98910-aced-43fe-8b44-57593e04f677",
   "metadata": {},
   "outputs": [],
   "source": [
    "suppressPackageStartupMessages(library(dplyr))\n",
    "library(readr)\n",
    "library(ggplot2); theme_set(theme_classic(base_size=14))\n",
    "\n",
    "simulate_example <- function(\n",
    "    n,\n",
    "    mean_coef = c(pgs = 0.5, ancestry = 0.4, age=-0.4, sex=0.5), \n",
    "    sd_coef = c(intercept = log(7 / 3), ancestry = 0.2, age = -0.15, sex = 0.5)\n",
    ") {\n",
    "    # simulate raw data\n",
    "    data <- data.frame(\n",
    "        pgs = rnorm(n),\n",
    "        intercept = 1,\n",
    "        ancestry = runif(n),\n",
    "        age = rnorm(n, 40, 10),\n",
    "        sex = rbinom(n, size = 1, prob = 0.5)\n",
    "    )\n",
    "    # create interpretable labels\n",
    "    data <- data %>% mutate(\n",
    "        ancestry_label = cut_number(ancestry, 5, labels = FALSE),\n",
    "        age_label = cut_number(age, 5, labels = FALSE),\n",
    "        sex_label = ifelse(sex > 0, \"Female\", \"Male\")\n",
    "    )\n",
    "    # standardize variables\n",
    "    data[, c(\"ancestry\", \"age\", \"sex\")] <- scale(data[, c(\"ancestry\", \"age\", \"sex\")])\n",
    "\n",
    "    # simulate phenotype\n",
    "    mean_mat <- as.matrix(data[, names(mean_coef)])\n",
    "    sd_mat <- as.matrix(data[, names(sd_coef)])\n",
    "    \n",
    "    y_mean <- mean_mat %*% mean_coef\n",
    "    y_sd <- sqrt(exp(sd_mat %*% sd_coef))\n",
    "    y <- rnorm(n = n, mean = y_mean, sd = y_sd)\n",
    "    data[, \"pheno\"] <- y\n",
    "\n",
    "    # pheno <- sort(rnbinom(n, mu = 120, size = 10))\n",
    "    # data[, \"pheno\"] <- pheno[rank(data[, \"y\"], ties.method = \"first\")]\n",
    "    data <- cbind(personid=paste0(\"indiv\", seq(1, nrow(data))), data)\n",
    "    return(data)\n",
    "}"
   ]
  },
  {
   "cell_type": "code",
   "execution_count": 2,
   "id": "68a72c77-f9b1-4d50-a244-1e8761670784",
   "metadata": {},
   "outputs": [],
   "source": [
    "set.seed(1234)\n",
    "data_df <- simulate_example(n=1000)\n",
    "\n",
    "write_tsv(\n",
    "    data_df %>% mutate_if(is.numeric, round, digits = 3), \n",
    "    \"trait.tsv\"\n",
    ")"
   ]
  },
  {
   "cell_type": "code",
   "execution_count": 3,
   "id": "369fb6e0-a6d9-4135-a56e-014dbc07c19b",
   "metadata": {},
   "outputs": [],
   "source": [
    "system(\n",
    "    \"Rscript ../calpred.cli.R --y_col pheno --df trait.tsv --mean_cols pgs,ancestry,age,sex --sd_cols ancestry,age,sex --out_prefix trait\"\n",
    ")"
   ]
  },
  {
   "cell_type": "code",
   "execution_count": 4,
   "id": "6a9d2c34-c16b-4813-baf2-56743e7509e6",
   "metadata": {},
   "outputs": [],
   "source": [
    "coef_df <- read_tsv(\"trait.coef.tsv\", show_col_types = FALSE)\n",
    "pred_df <- read_tsv(\"trait.fitted.tsv\", show_col_types = FALSE)\n",
    "pred_df[, \"pheno\"] <- data_df[, \"pheno\"]"
   ]
  },
  {
   "cell_type": "code",
   "execution_count": 5,
   "id": "82e96e78-681b-4f23-82f3-0d4713b425e9",
   "metadata": {},
   "outputs": [
    {
     "data": {
      "text/html": [
       "<table class=\"dataframe\">\n",
       "<caption>A spec_tbl_df: 5 × 5</caption>\n",
       "<thead>\n",
       "\t<tr><th scope=col>name</th><th scope=col>mean_coef</th><th scope=col>mean_se</th><th scope=col>sd_coef</th><th scope=col>sd_se</th></tr>\n",
       "\t<tr><th scope=col>&lt;chr&gt;</th><th scope=col>&lt;dbl&gt;</th><th scope=col>&lt;dbl&gt;</th><th scope=col>&lt;dbl&gt;</th><th scope=col>&lt;dbl&gt;</th></tr>\n",
       "</thead>\n",
       "<tbody>\n",
       "\t<tr><td>const   </td><td>-0.01378506</td><td>0.05086959</td><td> 0.8351352</td><td>0.04483364</td></tr>\n",
       "\t<tr><td>pgs     </td><td> 0.49407466</td><td>0.04533305</td><td>        NA</td><td>        NA</td></tr>\n",
       "\t<tr><td>ancestry</td><td> 0.37292734</td><td>0.04526474</td><td> 0.1544514</td><td>0.04505185</td></tr>\n",
       "\t<tr><td>age     </td><td>-0.42640370</td><td>0.04611310</td><td>-0.1695323</td><td>0.04501991</td></tr>\n",
       "\t<tr><td>sex     </td><td> 0.50386137</td><td>0.04983875</td><td> 0.4406440</td><td>0.04496541</td></tr>\n",
       "</tbody>\n",
       "</table>\n"
      ],
      "text/latex": [
       "A spec\\_tbl\\_df: 5 × 5\n",
       "\\begin{tabular}{lllll}\n",
       " name & mean\\_coef & mean\\_se & sd\\_coef & sd\\_se\\\\\n",
       " <chr> & <dbl> & <dbl> & <dbl> & <dbl>\\\\\n",
       "\\hline\n",
       "\t const    & -0.01378506 & 0.05086959 &  0.8351352 & 0.04483364\\\\\n",
       "\t pgs      &  0.49407466 & 0.04533305 &         NA &         NA\\\\\n",
       "\t ancestry &  0.37292734 & 0.04526474 &  0.1544514 & 0.04505185\\\\\n",
       "\t age      & -0.42640370 & 0.04611310 & -0.1695323 & 0.04501991\\\\\n",
       "\t sex      &  0.50386137 & 0.04983875 &  0.4406440 & 0.04496541\\\\\n",
       "\\end{tabular}\n"
      ],
      "text/markdown": [
       "\n",
       "A spec_tbl_df: 5 × 5\n",
       "\n",
       "| name &lt;chr&gt; | mean_coef &lt;dbl&gt; | mean_se &lt;dbl&gt; | sd_coef &lt;dbl&gt; | sd_se &lt;dbl&gt; |\n",
       "|---|---|---|---|---|\n",
       "| const    | -0.01378506 | 0.05086959 |  0.8351352 | 0.04483364 |\n",
       "| pgs      |  0.49407466 | 0.04533305 |         NA |         NA |\n",
       "| ancestry |  0.37292734 | 0.04526474 |  0.1544514 | 0.04505185 |\n",
       "| age      | -0.42640370 | 0.04611310 | -0.1695323 | 0.04501991 |\n",
       "| sex      |  0.50386137 | 0.04983875 |  0.4406440 | 0.04496541 |\n",
       "\n"
      ],
      "text/plain": [
       "  name     mean_coef   mean_se    sd_coef    sd_se     \n",
       "1 const    -0.01378506 0.05086959  0.8351352 0.04483364\n",
       "2 pgs       0.49407466 0.04533305         NA         NA\n",
       "3 ancestry  0.37292734 0.04526474  0.1544514 0.04505185\n",
       "4 age      -0.42640370 0.04611310 -0.1695323 0.04501991\n",
       "5 sex       0.50386137 0.04983875  0.4406440 0.04496541"
      ]
     },
     "metadata": {},
     "output_type": "display_data"
    }
   ],
   "source": [
    "coef_df"
   ]
  },
  {
   "cell_type": "code",
   "execution_count": 6,
   "id": "1da1ba3d-fa05-4c84-885f-a9039fa36787",
   "metadata": {},
   "outputs": [],
   "source": [
    "# Calculate the quantiles\n",
    "q5 <- quantile(pred_df$pheno, probs = 0.95)\n",
    "q5_mean <- quantile(pred_df$pheno - pred_df$mean, probs = 0.95)\n",
    "q5_mean_sd <- quantile((pred_df$pheno - pred_df$mean) / pred_df$sd, probs = 0.95)\n",
    "\n",
    "pred_df <- pred_df %>%\n",
    "  mutate(\n",
    "    top_q5 = pheno >= q5,\n",
    "    top_q5_mean = (pheno - mean) >= q5_mean,\n",
    "    top_q5_mean_sd = ((pheno - mean) / sd) >= q5_mean_sd\n",
    "  )"
   ]
  },
  {
   "cell_type": "code",
   "execution_count": null,
   "id": "31d24a93-8800-4efa-930a-345e808779f2",
   "metadata": {},
   "outputs": [
    {
     "name": "stderr",
     "output_type": "stream",
     "text": [
      "\n",
      "Attaching package: ‘gridExtra’\n",
      "\n",
      "\n",
      "The following object is masked from ‘package:dplyr’:\n",
      "\n",
      "    combine\n",
      "\n",
      "\n"
     ]
    }
   ],
   "source": [
    "plot1 <- ggplot(pred_df, aes(x = mean, y = pheno, color = top_q5)) +\n",
    "  geom_point() +\n",
    "  scale_color_manual(values = c(\"FALSE\" = \"blue\", \"TRUE\" = \"red\")) +\n",
    "  labs(title = \"Top 5% of pheno\") + \n",
    "  theme(legend.position = \"none\")\n",
    "\n",
    "plot2 <- ggplot(pred_df, aes(x = mean, y = pheno, color = top_q5_mean)) +\n",
    "  geom_point() +\n",
    "  scale_color_manual(values = c(\"FALSE\" = \"blue\", \"TRUE\" = \"red\")) +\n",
    "  labs(title = \"Accounting for mean\") +\n",
    "  theme(legend.position = \"none\")\n",
    "\n",
    "plot3 <- ggplot(pred_df, aes(x = mean, y = pheno, color = top_q5_mean_sd)) +\n",
    "  geom_point() +\n",
    "  scale_color_manual(values = c(\"FALSE\" = \"blue\", \"TRUE\" = \"red\")) +\n",
    "  labs(title = \"Accounting for mean and sd\") +\n",
    "  theme(legend.position = \"none\")\n",
    "  \n",
    "\n",
    "# Display the plots\n",
    "library(gridExtra)\n",
    "options(repr.plot.width = 12, repr.plot.height = 4, repr.plot.res = 200)\n",
    "grid.arrange(plot1, plot2, plot3, ncol = 3)"
   ]
  }
 ],
 "metadata": {
  "kernelspec": {
   "display_name": "R",
   "language": "R",
   "name": "ir"
  },
  "language_info": {
   "codemirror_mode": "r",
   "file_extension": ".r",
   "mimetype": "text/x-r-source",
   "name": "R",
   "pygments_lexer": "r",
   "version": "4.2.2"
  }
 },
 "nbformat": 4,
 "nbformat_minor": 5
}
